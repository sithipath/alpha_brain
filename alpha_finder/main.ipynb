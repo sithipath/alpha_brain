{
 "cells": [
  {
   "cell_type": "code",
   "execution_count": 1,
   "id": "f07f62e3",
   "metadata": {},
   "outputs": [],
   "source": [
    "import pandas as pd\n",
    "from script.login import brain_login\n",
    "from script.alpha import process_alphas_in_parallel\n",
    "import itertools"
   ]
  },
  {
   "cell_type": "code",
   "execution_count": 2,
   "id": "e57ca24e",
   "metadata": {},
   "outputs": [
    {
     "name": "stdout",
     "output_type": "stream",
     "text": [
      "Authenticating with WorldQuant BRAIN...\n",
      "Authentication successful!\n"
     ]
    }
   ],
   "source": [
    "# Authenticate with the BRAIN platform\n",
    "session = brain_login()"
   ]
  },
  {
   "cell_type": "code",
   "execution_count": 6,
   "id": "60b933c3",
   "metadata": {},
   "outputs": [
    {
     "name": "stdout",
     "output_type": "stream",
     "text": [
      "Total simulations to be processed: 4\n"
     ]
    }
   ],
   "source": [
    "# Define your threading and chunking strategy\n",
    "NUM_THREADS = 1  # Number of parallel workers\n",
    "CHUNK_SIZE = 2   # Number of individual simulations per API request (max 10)\n",
    "\n",
    "# --- Define the components for your simulations ---\n",
    "alpha_expressions = ['close']\n",
    "\n",
    "# --- NEW: Explicitly build the list of every simulation to run ---\n",
    "# This gives you full control to create any combination you want.\n",
    "\n",
    "simulation_list = []\n",
    "default_settings = {\n",
    "    \"instrumentType\": \"EQUITY\", \"delay\": 1, \n",
    "    \"pasteurization\": \"ON\", \"unitHandling\": \"VERIFY\", \"nanHandling\": \"OFF\",\n",
    "    \"language\": \"FASTEXPR\", \"visualization\": False, \"maxTrade\": \"OFF\",\n",
    "    \"testPeriod\": \"P1Y\"\n",
    "}\n",
    "\n",
    "# --- UPDATED: Define parameter lists to create all combinations ---\n",
    "regions = [\"USA\"]                                   # e.g., [\"USA\", \"CHN\"]\n",
    "universes = [\"TOP1000\",\"TOP3000\"]                               # e.g., [\"TOP1000\", \"TOP3000\"]\n",
    "decays = [4]\n",
    "neutralizations = [\"MARKET\", \"SUBINDUSTRY\"]           # e.g., [\"SECTOR\", \"SUBINDUSTRY\"]\n",
    "truncations = [0.08]\n",
    "\n",
    "# This loop structure will now generate every possible permutation\n",
    "for expr in alpha_expressions:\n",
    "    for reg in regions:\n",
    "        for uni in universes:\n",
    "            for dec in decays:\n",
    "                for neut in neutralizations:\n",
    "                    for trunc in truncations:\n",
    "                        # Create a fresh copy of settings for this specific simulation\n",
    "                        settings = default_settings.copy()\n",
    "                        settings.update({\n",
    "                            \"region\": reg,\n",
    "                            \"universe\": uni,\n",
    "                            \"decay\": dec,\n",
    "                            \"neutralization\": neut,\n",
    "                            \"truncation\": trunc\n",
    "                        })\n",
    "                        \n",
    "                        # Add the fully-formed simulation object to our master list\n",
    "                        simulation_list.append({\n",
    "                            'type': 'REGULAR',\n",
    "                            'settings': settings,\n",
    "                            'regular': expr\n",
    "                        })\n",
    "\n",
    "print(f\"Total simulations to be processed: {len(simulation_list)}\")\n"
   ]
  },
  {
   "cell_type": "code",
   "execution_count": 7,
   "id": "edcc5e22",
   "metadata": {},
   "outputs": [
    {
     "name": "stdout",
     "output_type": "stream",
     "text": [
      "Initialized queue with 2 chunks to be processed by 1 workers.\n",
      "[Worker-1] Processing new chunk of 2 simulation(s)...\n",
      "[Worker-1] Submission successful. ID: 2s4B1o3YA57dapq70P1ieDq\n",
      "[Worker-1] Successfully retrieved details for simulation: 2s4B1o3YA57dapq70P1ieDq\n",
      "[Worker-1] Results successfully saved to: output\\TK4Gof.csv\n",
      "[Worker-1] Processing new chunk of 2 simulation(s)...\n",
      "[Worker-1] Submission successful. ID: 48BdT68b657fbN3x5ohxc8u\n",
      "[Worker-1] Successfully retrieved details for simulation: 48BdT68b657fbN3x5ohxc8u\n",
      "[Worker-1] Results successfully saved to: output\\sK7qTN.csv\n",
      "\n",
      "--- All alpha simulations complete. ---\n"
     ]
    }
   ],
   "source": [
    "if session:\n",
    "    process_alphas_in_parallel(\n",
    "        session=session,\n",
    "        simulation_list=simulation_list,\n",
    "        num_threads=NUM_THREADS,\n",
    "        chunk_size=CHUNK_SIZE\n",
    "    )"
   ]
  }
 ],
 "metadata": {
  "kernelspec": {
   "display_name": "Python 3",
   "language": "python",
   "name": "python3"
  },
  "language_info": {
   "codemirror_mode": {
    "name": "ipython",
    "version": 3
   },
   "file_extension": ".py",
   "mimetype": "text/x-python",
   "name": "python",
   "nbconvert_exporter": "python",
   "pygments_lexer": "ipython3",
   "version": "3.13.7"
  }
 },
 "nbformat": 4,
 "nbformat_minor": 5
}
